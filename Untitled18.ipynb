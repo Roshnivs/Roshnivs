{
  "nbformat": 4,
  "nbformat_minor": 0,
  "metadata": {
    "colab": {
      "provenance": [],
      "authorship_tag": "ABX9TyPEZrYoVaX5CUIfPcEYa8Fj",
      "include_colab_link": true
    },
    "kernelspec": {
      "name": "python3",
      "display_name": "Python 3"
    },
    "language_info": {
      "name": "python"
    }
  },
  "cells": [
    {
      "cell_type": "markdown",
      "metadata": {
        "id": "view-in-github",
        "colab_type": "text"
      },
      "source": [
        "<a href=\"https://colab.research.google.com/github/Roshnivs/Roshnivs/blob/main/Untitled18.ipynb\" target=\"_parent\"><img src=\"https://colab.research.google.com/assets/colab-badge.svg\" alt=\"Open In Colab\"/></a>"
      ]
    },
    {
      "cell_type": "code",
      "execution_count": 1,
      "metadata": {
        "colab": {
          "base_uri": "https://localhost:8080/"
        },
        "id": "PqAlZ7niAl3x",
        "outputId": "eeac1603-c1c0-4d30-d19e-7ac51d5f49c9"
      },
      "outputs": [
        {
          "output_type": "stream",
          "name": "stdout",
          "text": [
            "All the rooms are dirty\n",
            "[[1, 1, 1, 1], [1, 1, 1, 1], [1, 1, 1, 1], [1, 1, 1, 1]]\n",
            "Before cleaning room, I detect all of these random dirts\n",
            "[[1, 0, 0, 1], [1, 0, 1, 1], [0, 1, 1, 1], [1, 1, 0, 0]]\n",
            "Vaccum in this location now: 0 0\n",
            "Cleaned: 0 0\n",
            "Vaccum in this location now: 0 3\n",
            "Cleaned: 0 3\n",
            "Vaccum in this location now: 1 0\n",
            "Cleaned: 1 0\n",
            "Vaccum in this location now: 1 2\n",
            "Cleaned: 1 2\n",
            "Vaccum in this location now: 1 3\n",
            "Cleaned: 1 3\n",
            "Vaccum in this location now: 2 1\n",
            "Cleaned: 2 1\n",
            "Vaccum in this location now: 2 2\n",
            "Cleaned: 2 2\n",
            "Vaccum in this location now: 2 3\n",
            "Cleaned: 2 3\n",
            "Vaccum in this location now: 3 0\n",
            "Cleaned: 3 0\n",
            "Vaccum in this location now: 3 1\n",
            "Cleaned: 3 1\n",
            "Room is clean now. Thanks for using the Robot Vacuum cleaner\n",
            "[[0, 0, 0, 0], [0, 0, 0, 0], [0, 0, 0, 0], [0, 0, 0, 0]]\n",
            "Performance= 37.5 %\n"
          ]
        }
      ],
      "source": [
        "import random\n",
        "def display(room):\n",
        "  print(room)\n",
        "room=[\n",
        "    [1,1,1,1],\n",
        "    [1,1,1,1],\n",
        "    [1,1,1,1],\n",
        "    [1,1,1,1],\n",
        "]\n",
        "print(\"All the rooms are dirty\")\n",
        "display(room)\n",
        "x=0\n",
        "y=0\n",
        "while x<4:\n",
        "  while y<4:\n",
        "    room[x][y]=random.choice([0,1])\n",
        "    y+=1\n",
        "  x+=1\n",
        "  y=0\n",
        "print(\"Before cleaning room, I detect all of these random dirts\")\n",
        "display(room)\n",
        "x=0\n",
        "y=0\n",
        "z=0\n",
        "while x<4:\n",
        "  while y<4:\n",
        "    if room[x][y]==1:\n",
        "      print(\"Vaccum in this location now:\", x,y)\n",
        "      room[x][y]=0\n",
        "      print(\"Cleaned:\", x,y)\n",
        "      z+=1\n",
        "    y+=1\n",
        "  x+=1\n",
        "  y=0\n",
        "performance=(100-((z/16)*100))\n",
        "print(\"Room is clean now. Thanks for using the Robot Vacuum cleaner\")\n",
        "display(room)\n",
        "print('Performance=', performance,'%')"
      ]
    }
  ]
}