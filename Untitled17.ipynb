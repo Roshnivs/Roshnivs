{
  "nbformat": 4,
  "nbformat_minor": 0,
  "metadata": {
    "colab": {
      "provenance": [],
      "authorship_tag": "ABX9TyPa0Wo0qYhFQgcyqv6GQVxl",
      "include_colab_link": true
    },
    "kernelspec": {
      "name": "python3",
      "display_name": "Python 3"
    },
    "language_info": {
      "name": "python"
    }
  },
  "cells": [
    {
      "cell_type": "markdown",
      "metadata": {
        "id": "view-in-github",
        "colab_type": "text"
      },
      "source": [
        "<a href=\"https://colab.research.google.com/github/Roshnivs/Roshnivs/blob/main/Untitled17.ipynb\" target=\"_parent\"><img src=\"https://colab.research.google.com/assets/colab-badge.svg\" alt=\"Open In Colab\"/></a>"
      ]
    },
    {
      "cell_type": "code",
      "execution_count": 1,
      "metadata": {
        "colab": {
          "base_uri": "https://localhost:8080/"
        },
        "id": "2AWjGKHx7CB5",
        "outputId": "3f56c952-51ef-4cc4-ef5d-5b582be244f9"
      },
      "outputs": [
        {
          "output_type": "stream",
          "name": "stdout",
          "text": [
            "BFS traversal Order:\n",
            "A B C D E F "
          ]
        }
      ],
      "source": [
        "from collections import deque\n",
        "graph ={\n",
        "    'A':['B','C'],\n",
        "    'B':['D','E'],\n",
        "    'C':['F'],\n",
        "    'D':[],\n",
        "    'E':[],\n",
        "    'F':[]\n",
        "}\n",
        "def bfs(graph, start_node):\n",
        "  visited=set()\n",
        "  queue=deque([start_node])\n",
        "  print(\"BFS traversal Order:\")\n",
        "  while queue:\n",
        "    current_node=queue.popleft()\n",
        "    if current_node not in visited:\n",
        "      print(current_node, end=\" \")\n",
        "      visited.add(current_node)\n",
        "      for neighbor in graph[current_node]:\n",
        "        if neighbor not in visited:\n",
        "          queue.append(neighbor)\n",
        "bfs(graph, 'A')"
      ]
    },
    {
      "cell_type": "code",
      "source": [
        "from collections import deque\n",
        "graph ={\n",
        "    'A':['B','C'],\n",
        "    'B':['D','E'],\n",
        "    'C':['F'],\n",
        "    'D':[],\n",
        "    'E':[],\n",
        "    'F':[]\n",
        "}\n",
        "def dfs_using_stack(graph, start_node):\n",
        "  stack=[start_node]\n",
        "  visited=set()\n",
        "  while stack:\n",
        "    current_node=stack.pop()\n",
        "    if current_node not in visited:\n",
        "      print(current_node, end=\" \")\n",
        "      visited.add(current_node)\n",
        "      for neighbor in reversed(graph[current_node]):\n",
        "        if neighbor not in visited:\n",
        "          stack.append(neighbor)\n",
        "print(\"DFS Traversal Order (using stack):\")\n",
        "dfs_using_stack(graph,'A')"
      ],
      "metadata": {
        "colab": {
          "base_uri": "https://localhost:8080/"
        },
        "id": "2hA3JsQj7GQp",
        "outputId": "978d6267-4051-4a4f-93b2-cdb59b9a0ec0"
      },
      "execution_count": 2,
      "outputs": [
        {
          "output_type": "stream",
          "name": "stdout",
          "text": [
            "DFS Traversal Order (using stack):\n",
            "A B D E C F "
          ]
        }
      ]
    }
  ]
}